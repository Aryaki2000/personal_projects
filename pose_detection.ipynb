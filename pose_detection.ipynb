{
 "cells": [
  {
   "cell_type": "code",
   "execution_count": 1,
   "id": "2513e8a4",
   "metadata": {},
   "outputs": [
    {
     "name": "stderr",
     "output_type": "stream",
     "text": [
      "WARNING: Ignoring invalid distribution -rotobuf (c:\\users\\user\\anaconda3\\lib\\site-packages)\n",
      "WARNING: Ignoring invalid distribution -rotobuf (c:\\users\\user\\anaconda3\\lib\\site-packages)\n",
      "ERROR: Could not find a version that satisfies the requirement tensorflow==2.4.1 (from versions: 2.5.0, 2.5.1, 2.5.2, 2.5.3, 2.6.0rc0, 2.6.0rc1, 2.6.0rc2, 2.6.0, 2.6.1, 2.6.2, 2.6.3, 2.6.4, 2.6.5, 2.7.0rc0, 2.7.0rc1, 2.7.0, 2.7.1, 2.7.2, 2.7.3, 2.7.4, 2.8.0rc0, 2.8.0rc1, 2.8.0, 2.8.1, 2.8.2, 2.8.3, 2.8.4, 2.9.0rc0, 2.9.0rc1, 2.9.0rc2, 2.9.0, 2.9.1, 2.9.2, 2.9.3, 2.10.0rc0, 2.10.0rc1, 2.10.0rc2, 2.10.0rc3, 2.10.0, 2.10.1, 2.11.0rc0, 2.11.0rc1, 2.11.0rc2, 2.11.0)\n",
      "ERROR: No matching distribution found for tensorflow==2.4.1\n",
      "WARNING: Ignoring invalid distribution -rotobuf (c:\\users\\user\\anaconda3\\lib\\site-packages)\n",
      "WARNING: Ignoring invalid distribution -rotobuf (c:\\users\\user\\anaconda3\\lib\\site-packages)\n",
      "WARNING: Ignoring invalid distribution -rotobuf (c:\\users\\user\\anaconda3\\lib\\site-packages)\n"
     ]
    }
   ],
   "source": [
    "!pip install tensorflow==2.4.1 tensorflow-gpu==2.4.1 tensorflow-hub opencv-python matplotlib"
   ]
  },
  {
   "cell_type": "code",
   "execution_count": 4,
   "id": "c05a9b01",
   "metadata": {},
   "outputs": [],
   "source": [
    "import tensorflow as tf\n",
    "import tensorflow_hub as hub\n",
    "import cv2\n",
    "from matplotlib import pyplot as plt\n",
    "import numpy as np"
   ]
  },
  {
   "cell_type": "code",
   "execution_count": 5,
   "id": "38579a75",
   "metadata": {},
   "outputs": [],
   "source": [
    "model = hub.load('https://tfhub.dev/google/movenet/multipose/lightning/1')\n",
    "movenet = model.signatures['serving_default']"
   ]
  },
  {
   "cell_type": "code",
   "execution_count": 18,
   "id": "7a39a671",
   "metadata": {},
   "outputs": [],
   "source": [
    "cap = cv2.VideoCapture(\"production ID_4902164.mp4\")\n",
    "while cap.isOpened():\n",
    "    ret, frame = cap.read()\n",
    "    \n",
    "    # Resize image\n",
    "    img = frame.copy()\n",
    "    img = tf.image.resize_with_pad(tf.expand_dims(img, axis=0), 384,640)\n",
    "    input_img = tf.cast(img, dtype=tf.int32)\n",
    "    \n",
    "    # Detection section\n",
    "    results = movenet(input_img)\n",
    "    keypoints_with_scores = results['output_0'].numpy()[:,:,:51].reshape((6,17,3))\n",
    "    \n",
    "    # Render keypoints \n",
    "    loop_through_people(frame, keypoints_with_scores, EDGES, 0.1)\n",
    "    \n",
    "    cv2.imshow('Movenet Multipose', frame)\n",
    "    \n",
    "    if cv2.waitKey(10) & 0xFF==ord('q'):\n",
    "        break\n",
    "cap.release()\n",
    "cv2.destroyAllWindows()"
   ]
  },
  {
   "cell_type": "code",
   "execution_count": 9,
   "id": "9b2b393e",
   "metadata": {},
   "outputs": [
    {
     "data": {
      "text/plain": [
       "array([[[9.04310703e-01, 5.23016274e-01, 3.15513134e-01],\n",
       "        [8.17883611e-01, 5.58693826e-01, 2.45377123e-01],\n",
       "        [8.47407043e-01, 4.74658012e-01, 1.57284975e-01],\n",
       "        [8.20419312e-01, 5.83527625e-01, 1.13255650e-01],\n",
       "        [8.84211481e-01, 4.20536339e-01, 1.72734514e-01],\n",
       "        [9.49204326e-01, 6.31063521e-01, 6.12136275e-02],\n",
       "        [9.51520801e-01, 3.85367185e-01, 5.83083890e-02],\n",
       "        [9.43330288e-01, 6.42991245e-01, 2.90292897e-04],\n",
       "        [9.49348330e-01, 3.84301215e-01, 3.08608219e-06],\n",
       "        [9.44471061e-01, 6.03981197e-01, 5.50298803e-02],\n",
       "        [9.39822614e-01, 4.21180546e-01, 1.70812942e-02],\n",
       "        [9.51991260e-01, 6.30208254e-01, 5.17461565e-04],\n",
       "        [9.42257047e-01, 5.20616472e-01, 6.39965365e-05],\n",
       "        [9.42650974e-01, 6.10888720e-01, 2.27631372e-03],\n",
       "        [9.42221820e-01, 4.70787853e-01, 1.96776050e-03],\n",
       "        [8.10128450e-01, 5.58998823e-01, 7.89556871e-05],\n",
       "        [8.03276718e-01, 5.33418179e-01, 1.20491437e-04]],\n",
       "\n",
       "       [[3.73543471e-01, 7.58571327e-01, 1.55987903e-01],\n",
       "        [3.54428142e-01, 7.64573097e-01, 1.14870958e-01],\n",
       "        [3.56126159e-01, 7.56924868e-01, 9.26342458e-02],\n",
       "        [3.63925040e-01, 7.76663303e-01, 1.92776516e-01],\n",
       "        [3.67672801e-01, 7.51081169e-01, 1.07251815e-01],\n",
       "        [4.61534381e-01, 7.97039390e-01, 2.19514698e-01],\n",
       "        [4.63623345e-01, 7.33056486e-01, 1.22958876e-01],\n",
       "        [5.52731395e-01, 8.22232366e-01, 1.74049124e-01],\n",
       "        [6.05605543e-01, 7.25105941e-01, 2.28114072e-02],\n",
       "        [6.50283396e-01, 8.36256623e-01, 1.12553298e-01],\n",
       "        [6.68205440e-01, 7.19189465e-01, 1.34810686e-01],\n",
       "        [6.94864929e-01, 8.20030153e-01, 1.58195660e-01],\n",
       "        [7.27150857e-01, 7.57556736e-01, 1.90906852e-01],\n",
       "        [8.78494859e-01, 8.61433506e-01, 5.74724451e-02],\n",
       "        [8.95725012e-01, 7.60759234e-01, 4.53998260e-02],\n",
       "        [8.90405655e-01, 8.63050282e-01, 3.41868624e-02],\n",
       "        [9.08258796e-01, 7.61716545e-01, 2.46738102e-02]],\n",
       "\n",
       "       [[3.66329372e-01, 7.58876860e-01, 2.01481938e-01],\n",
       "        [3.48159432e-01, 7.60645568e-01, 9.54222977e-02],\n",
       "        [3.42924893e-01, 7.49006212e-01, 9.89055634e-02],\n",
       "        [3.58599246e-01, 7.76519775e-01, 1.70003191e-01],\n",
       "        [3.60068291e-01, 7.55485415e-01, 1.34713694e-01],\n",
       "        [4.44113255e-01, 7.96115220e-01, 1.58471644e-01],\n",
       "        [4.47709769e-01, 7.38154888e-01, 1.69548273e-01],\n",
       "        [5.51484346e-01, 8.22389603e-01, 1.62474141e-01],\n",
       "        [5.21747589e-01, 7.19253957e-01, 4.57368009e-02],\n",
       "        [5.35915434e-01, 7.86908448e-01, 4.67096604e-02],\n",
       "        [5.45396984e-01, 7.18227029e-01, 4.52888571e-02],\n",
       "        [6.69873238e-01, 8.13548207e-01, 1.96508259e-01],\n",
       "        [6.74428344e-01, 7.60687768e-01, 1.47861198e-01],\n",
       "        [7.26214349e-01, 8.41163456e-01, 4.65644598e-02],\n",
       "        [7.59626150e-01, 7.43440747e-01, 4.24600691e-02],\n",
       "        [7.09044576e-01, 8.30294073e-01, 3.59849855e-02],\n",
       "        [7.44208217e-01, 7.40219891e-01, 4.77828532e-02]],\n",
       "\n",
       "       [[3.15189838e-01, 2.73139596e-01, 3.70837674e-02],\n",
       "        [2.75102913e-01, 2.71320701e-01, 2.61185728e-02],\n",
       "        [2.93874294e-01, 2.98713684e-01, 1.87305771e-02],\n",
       "        [2.74620831e-01, 2.82398403e-01, 1.34765143e-02],\n",
       "        [2.89221346e-01, 3.01801562e-01, 1.26113789e-02],\n",
       "        [3.93534243e-01, 2.77763337e-01, 2.15364061e-02],\n",
       "        [3.61117125e-01, 3.13080043e-01, 2.95779835e-02],\n",
       "        [5.62014699e-01, 2.36044928e-01, 5.02719544e-02],\n",
       "        [4.62392390e-01, 2.93250382e-01, 5.57743348e-02],\n",
       "        [5.57062149e-01, 2.33994648e-01, 1.01734765e-01],\n",
       "        [4.81152028e-01, 2.63230413e-01, 3.22488025e-02],\n",
       "        [5.79255342e-01, 2.85594523e-01, 7.56460289e-03],\n",
       "        [5.63074648e-01, 2.98077583e-01, 1.09049408e-02],\n",
       "        [6.90520644e-01, 2.86902010e-01, 3.23986374e-02],\n",
       "        [6.62258506e-01, 2.70975083e-01, 4.24173996e-02],\n",
       "        [7.14426994e-01, 2.92612851e-01, 2.13502459e-02],\n",
       "        [7.00561523e-01, 2.44136006e-01, 3.82776745e-02]],\n",
       "\n",
       "       [[2.66810507e-01, 5.24284780e-01, 1.34524852e-02],\n",
       "        [2.53207862e-01, 5.24453163e-01, 1.33027881e-02],\n",
       "        [2.60393590e-01, 5.24843633e-01, 6.47611311e-03],\n",
       "        [2.60734528e-01, 5.43284833e-01, 2.31331438e-02],\n",
       "        [2.46772692e-01, 5.30467689e-01, 1.28222490e-02],\n",
       "        [3.29377174e-01, 5.44808805e-01, 4.88593839e-02],\n",
       "        [2.97321975e-01, 5.14544010e-01, 1.23076476e-02],\n",
       "        [3.67582142e-01, 5.56220770e-01, 3.08082998e-02],\n",
       "        [3.51261020e-01, 4.95400965e-01, 7.67413713e-03],\n",
       "        [3.59652728e-01, 5.55772901e-01, 1.05421487e-02],\n",
       "        [3.58473241e-01, 5.03894031e-01, 6.09972561e-03],\n",
       "        [4.70521390e-01, 5.51400542e-01, 9.77804419e-04],\n",
       "        [4.77570653e-01, 5.21375835e-01, 5.35487710e-03],\n",
       "        [6.00739717e-01, 5.04074395e-01, 6.93131704e-03],\n",
       "        [5.70310473e-01, 4.96746123e-01, 7.96610117e-03],\n",
       "        [5.84623039e-01, 5.01808643e-01, 7.53077539e-03],\n",
       "        [5.63802481e-01, 4.99342263e-01, 5.24523947e-03]],\n",
       "\n",
       "       [[2.13313162e-01, 2.72334248e-01, 9.70846787e-02],\n",
       "        [1.97606295e-01, 2.70625383e-01, 6.44261912e-02],\n",
       "        [1.96102858e-01, 2.72667885e-01, 5.82928434e-02],\n",
       "        [2.04463601e-01, 2.66703099e-01, 6.44112006e-02],\n",
       "        [2.00424433e-01, 3.00498456e-01, 7.19651282e-02],\n",
       "        [2.72261858e-01, 2.44924903e-01, 8.48149657e-02],\n",
       "        [2.61329859e-01, 3.13004196e-01, 5.87257892e-02],\n",
       "        [4.61873233e-01, 2.44064316e-01, 4.60692197e-02],\n",
       "        [3.96884978e-01, 2.86381036e-01, 3.97668406e-02],\n",
       "        [4.53520179e-01, 2.50640363e-01, 4.12864722e-02],\n",
       "        [4.21754658e-01, 2.80963272e-01, 3.81453186e-02],\n",
       "        [4.78312969e-01, 2.82255739e-01, 1.72999501e-02],\n",
       "        [4.73703116e-01, 3.03690672e-01, 2.10223906e-02],\n",
       "        [5.06322742e-01, 2.79094815e-01, 1.59624256e-02],\n",
       "        [4.91047680e-01, 2.89036661e-01, 3.01944092e-02],\n",
       "        [5.51776588e-01, 2.96516240e-01, 7.47583574e-03],\n",
       "        [5.29768825e-01, 2.75139838e-01, 2.07041390e-02]]], dtype=float32)"
      ]
     },
     "execution_count": 9,
     "metadata": {},
     "output_type": "execute_result"
    }
   ],
   "source": [
    "keypoints_with_scores"
   ]
  },
  {
   "cell_type": "code",
   "execution_count": 16,
   "id": "c0c17bfa",
   "metadata": {},
   "outputs": [],
   "source": [
    "# Function to loop through each person detected and render\n",
    "def loop_through_people(frame, keypoints_with_scores, edges, confidence_threshold):\n",
    "    for person in keypoints_with_scores:\n",
    "        draw_connections(frame, person, edges, confidence_threshold)\n",
    "        draw_keypoints(frame, person, confidence_threshold)"
   ]
  },
  {
   "cell_type": "code",
   "execution_count": 10,
   "id": "e06bdf2d",
   "metadata": {},
   "outputs": [],
   "source": [
    "def draw_keypoints(frame, keypoints, confidence_threshold):\n",
    "    y, x, c = frame.shape\n",
    "    shaped = np.squeeze(np.multiply(keypoints, [y,x,1]))\n",
    "    \n",
    "    for kp in shaped:\n",
    "        ky, kx, kp_conf = kp\n",
    "        if kp_conf > confidence_threshold:\n",
    "            cv2.circle(frame, (int(kx), int(ky)), 6, (0,255,0), -1)"
   ]
  },
  {
   "cell_type": "code",
   "execution_count": 11,
   "id": "17cd686f",
   "metadata": {},
   "outputs": [],
   "source": [
    "EDGES = {\n",
    "    (0, 1): 'm',\n",
    "    (0, 2): 'c',\n",
    "    (1, 3): 'm',\n",
    "    (2, 4): 'c',\n",
    "    (0, 5): 'm',\n",
    "    (0, 6): 'c',\n",
    "    (5, 7): 'm',\n",
    "    (7, 9): 'm',\n",
    "    (6, 8): 'c',\n",
    "    (8, 10): 'c',\n",
    "    (5, 6): 'y',\n",
    "    (5, 11): 'm',\n",
    "    (6, 12): 'c',\n",
    "    (11, 12): 'y',\n",
    "    (11, 13): 'm',\n",
    "    (13, 15): 'm',\n",
    "    (12, 14): 'c',\n",
    "    (14, 16): 'c'\n",
    "}"
   ]
  },
  {
   "cell_type": "code",
   "execution_count": 12,
   "id": "364d1bcb",
   "metadata": {},
   "outputs": [],
   "source": [
    "def draw_connections(frame, keypoints, edges, confidence_threshold):\n",
    "    y, x, c = frame.shape\n",
    "    shaped = np.squeeze(np.multiply(keypoints, [y,x,1]))\n",
    "    \n",
    "    for edge, color in edges.items():\n",
    "        p1, p2 = edge\n",
    "        y1, x1, c1 = shaped[p1]\n",
    "        y2, x2, c2 = shaped[p2]\n",
    "        \n",
    "        if (c1 > confidence_threshold) & (c2 > confidence_threshold):      \n",
    "            cv2.line(frame, (int(x1), int(y1)), (int(x2), int(y2)), (0,0,255), 4)"
   ]
  },
  {
   "cell_type": "code",
   "execution_count": null,
   "id": "ec925abe",
   "metadata": {},
   "outputs": [],
   "source": []
  },
  {
   "cell_type": "code",
   "execution_count": null,
   "id": "60cb9928",
   "metadata": {},
   "outputs": [],
   "source": []
  },
  {
   "cell_type": "code",
   "execution_count": null,
   "id": "b186c392",
   "metadata": {},
   "outputs": [],
   "source": []
  },
  {
   "cell_type": "code",
   "execution_count": null,
   "id": "8613b213",
   "metadata": {},
   "outputs": [],
   "source": []
  },
  {
   "cell_type": "code",
   "execution_count": null,
   "id": "1730528d",
   "metadata": {},
   "outputs": [],
   "source": []
  },
  {
   "cell_type": "code",
   "execution_count": null,
   "id": "cd56d39b",
   "metadata": {},
   "outputs": [],
   "source": []
  },
  {
   "cell_type": "code",
   "execution_count": null,
   "id": "71b23403",
   "metadata": {},
   "outputs": [],
   "source": []
  },
  {
   "cell_type": "code",
   "execution_count": null,
   "id": "b4bb710b",
   "metadata": {},
   "outputs": [],
   "source": []
  },
  {
   "cell_type": "code",
   "execution_count": null,
   "id": "b84fdbda",
   "metadata": {},
   "outputs": [],
   "source": []
  }
 ],
 "metadata": {
  "kernelspec": {
   "display_name": "Python 3 (ipykernel)",
   "language": "python",
   "name": "python3"
  },
  "language_info": {
   "codemirror_mode": {
    "name": "ipython",
    "version": 3
   },
   "file_extension": ".py",
   "mimetype": "text/x-python",
   "name": "python",
   "nbconvert_exporter": "python",
   "pygments_lexer": "ipython3",
   "version": "3.9.7"
  }
 },
 "nbformat": 4,
 "nbformat_minor": 5
}
